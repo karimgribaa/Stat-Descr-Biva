{
 "cells": [
  {
   "cell_type": "markdown",
   "id": "26c24f82-d55c-4802-be75-1b7225234d18",
   "metadata": {},
   "source": [
    "<a href=\"https://www.bigdatauniversity.com\"><img src = \"https://ibm.box.com/shared/static/cw2c7r3o20w9zn8gkecaeyjhgw3xdgbj.png\" width = 400, align = \"center\"></a>\n",
    "\n",
    "# <center>Régression linéaire simple</center>\n",
    "\n",
    "\n",
    "#### À propos de ce bloc-notes\n",
    "Dans ce cahier, nous apprenons à utiliser R pour implémenter une régression linéaire simple. Nous téléchargeons un ensemble de données lié à la consommation de carburant et aux émissions de dioxyde de carbone des voitures. Ensuite, nous divisons nos données en ensembles d'entraînement et de test, créons un modèle à l'aide d'un ensemble d'entraînement, évaluons notre modèle à l'aide d'un ensemble de test et enfin utilisons le modèle pour prédire une valeur inconnue."
   ]
  },
  {
   "cell_type": "markdown",
   "id": "9729ba37-5178-40bb-bf26-7f37c68b5aee",
   "metadata": {
    "tags": []
   },
   "source": [
    "### Téléchargement des données\n",
    "Pour télécharger les données, nous utiliserons l'adesse Web: https://s3-api.us-geo.objectstorage.softlayer.net/cf-courses-data/CognitiveClass/ML0101ENv3/labs/FuelConsumptionCo2.csv\n",
    "ensuite nous metterons le fichier téléchargé dans jupyter localhost."
   ]
  },
  {
   "cell_type": "markdown",
   "id": "18e4e571-3a22-4ec6-9b27-905c84edfb13",
   "metadata": {
    "tags": []
   },
   "source": [
    "## Comprendre les données\n",
    "\n",
    "### `FuelConsumptionCo2.csv`:\n",
    "Nous avons téléchargé un ensemble de données sur la consommation de carburant, **`«FuelConsumption.csv»`**, qui contient les cotes de consommation de carburant propres au modèle et les émissions de dioxyde de carbone estimées pour les véhicules légers neufs vendus au détail au Canada. [Source de données](http://open.canada.ca/data/en/dataset/98f1a129-f628-4ce4-b24d-6f16bf24dd64)\n",
    "- **MODELYEAR** e.g. 2014\n",
    "- **MAKE** e.g. Acura\n",
    "- **MODEL** e.g. ILX\n",
    "- **VEHICLE CLASS** e.g. SUV\n",
    "- **ENGINE SIZE** e.g. 4.7\n",
    "- **CYLINDERS** e.g 6\n",
    "- **TRANSMISSION** e.g. A6\n",
    "- **FUEL CONSUMPTION in CITY(L/100 km)** e.g. 9.9\n",
    "- **FUEL CONSUMPTION in HWY (L/100 km)** e.g. 8.9\n",
    "- **FUEL CONSUMPTION COMB (L/100 km)** e.g. 9.2\n",
    "- **CO2 EMISSIONS (g/km)** e.g. 182   --> low --> 0"
   ]
  },
  {
   "cell_type": "markdown",
   "id": "462f9b5a-eedb-4faf-ba41-c8df23e06d8b",
   "metadata": {},
   "source": [
    "## Lire les données"
   ]
  },
  {
   "cell_type": "code",
   "execution_count": 91,
   "id": "3bd7339f-25e8-4681-b928-14c37066e7c2",
   "metadata": {},
   "outputs": [
    {
     "data": {
      "text/html": [
       "<table>\n",
       "<thead><tr><th scope=col>MODELYEAR</th><th scope=col>MAKE</th><th scope=col>MODEL</th><th scope=col>VEHICLECLASS</th><th scope=col>ENGINESIZE</th><th scope=col>CYLINDERS</th><th scope=col>TRANSMISSION</th><th scope=col>FUELTYPE</th><th scope=col>FUELCONSUMPTION_CITY</th><th scope=col>FUELCONSUMPTION_HWY</th><th scope=col>FUELCONSUMPTION_COMB</th><th scope=col>FUELCONSUMPTION_COMB_MPG</th><th scope=col>CO2EMISSIONS</th></tr></thead>\n",
       "<tbody>\n",
       "\t<tr><td>2014       </td><td>ACURA      </td><td>ILX        </td><td>COMPACT    </td><td>2.0        </td><td>4          </td><td>AS5        </td><td>Z          </td><td> 9.9       </td><td>6.7        </td><td> 8.5       </td><td>33         </td><td>196        </td></tr>\n",
       "\t<tr><td>2014       </td><td>ACURA      </td><td>ILX        </td><td>COMPACT    </td><td>2.4        </td><td>4          </td><td>M6         </td><td>Z          </td><td>11.2       </td><td>7.7        </td><td> 9.6       </td><td>29         </td><td>221        </td></tr>\n",
       "\t<tr><td>2014       </td><td>ACURA      </td><td>ILX HYBRID </td><td>COMPACT    </td><td>1.5        </td><td>4          </td><td>AV7        </td><td>Z          </td><td> 6.0       </td><td>5.8        </td><td> 5.9       </td><td>48         </td><td>136        </td></tr>\n",
       "\t<tr><td>2014       </td><td>ACURA      </td><td>MDX 4WD    </td><td>SUV - SMALL</td><td>3.5        </td><td>6          </td><td>AS6        </td><td>Z          </td><td>12.7       </td><td>9.1        </td><td>11.1       </td><td>25         </td><td>255        </td></tr>\n",
       "\t<tr><td>2014       </td><td>ACURA      </td><td>RDX AWD    </td><td>SUV - SMALL</td><td>3.5        </td><td>6          </td><td>AS6        </td><td>Z          </td><td>12.1       </td><td>8.7        </td><td>10.6       </td><td>27         </td><td>244        </td></tr>\n",
       "\t<tr><td>2014       </td><td>ACURA      </td><td>RLX        </td><td>MID-SIZE   </td><td>3.5        </td><td>6          </td><td>AS6        </td><td>Z          </td><td>11.9       </td><td>7.7        </td><td>10.0       </td><td>28         </td><td>230        </td></tr>\n",
       "</tbody>\n",
       "</table>\n"
      ],
      "text/latex": [
       "\\begin{tabular}{r|lllllllllllll}\n",
       " MODELYEAR & MAKE & MODEL & VEHICLECLASS & ENGINESIZE & CYLINDERS & TRANSMISSION & FUELTYPE & FUELCONSUMPTION\\_CITY & FUELCONSUMPTION\\_HWY & FUELCONSUMPTION\\_COMB & FUELCONSUMPTION\\_COMB\\_MPG & CO2EMISSIONS\\\\\n",
       "\\hline\n",
       "\t 2014        & ACURA       & ILX         & COMPACT     & 2.0         & 4           & AS5         & Z           &  9.9        & 6.7         &  8.5        & 33          & 196        \\\\\n",
       "\t 2014        & ACURA       & ILX         & COMPACT     & 2.4         & 4           & M6          & Z           & 11.2        & 7.7         &  9.6        & 29          & 221        \\\\\n",
       "\t 2014        & ACURA       & ILX HYBRID  & COMPACT     & 1.5         & 4           & AV7         & Z           &  6.0        & 5.8         &  5.9        & 48          & 136        \\\\\n",
       "\t 2014        & ACURA       & MDX 4WD     & SUV - SMALL & 3.5         & 6           & AS6         & Z           & 12.7        & 9.1         & 11.1        & 25          & 255        \\\\\n",
       "\t 2014        & ACURA       & RDX AWD     & SUV - SMALL & 3.5         & 6           & AS6         & Z           & 12.1        & 8.7         & 10.6        & 27          & 244        \\\\\n",
       "\t 2014        & ACURA       & RLX         & MID-SIZE    & 3.5         & 6           & AS6         & Z           & 11.9        & 7.7         & 10.0        & 28          & 230        \\\\\n",
       "\\end{tabular}\n"
      ],
      "text/markdown": [
       "\n",
       "| MODELYEAR | MAKE | MODEL | VEHICLECLASS | ENGINESIZE | CYLINDERS | TRANSMISSION | FUELTYPE | FUELCONSUMPTION_CITY | FUELCONSUMPTION_HWY | FUELCONSUMPTION_COMB | FUELCONSUMPTION_COMB_MPG | CO2EMISSIONS |\n",
       "|---|---|---|---|---|---|---|---|---|---|---|---|---|\n",
       "| 2014        | ACURA       | ILX         | COMPACT     | 2.0         | 4           | AS5         | Z           |  9.9        | 6.7         |  8.5        | 33          | 196         |\n",
       "| 2014        | ACURA       | ILX         | COMPACT     | 2.4         | 4           | M6          | Z           | 11.2        | 7.7         |  9.6        | 29          | 221         |\n",
       "| 2014        | ACURA       | ILX HYBRID  | COMPACT     | 1.5         | 4           | AV7         | Z           |  6.0        | 5.8         |  5.9        | 48          | 136         |\n",
       "| 2014        | ACURA       | MDX 4WD     | SUV - SMALL | 3.5         | 6           | AS6         | Z           | 12.7        | 9.1         | 11.1        | 25          | 255         |\n",
       "| 2014        | ACURA       | RDX AWD     | SUV - SMALL | 3.5         | 6           | AS6         | Z           | 12.1        | 8.7         | 10.6        | 27          | 244         |\n",
       "| 2014        | ACURA       | RLX         | MID-SIZE    | 3.5         | 6           | AS6         | Z           | 11.9        | 7.7         | 10.0        | 28          | 230         |\n",
       "\n"
      ],
      "text/plain": [
       "  MODELYEAR MAKE  MODEL      VEHICLECLASS ENGINESIZE CYLINDERS TRANSMISSION\n",
       "1 2014      ACURA ILX        COMPACT      2.0        4         AS5         \n",
       "2 2014      ACURA ILX        COMPACT      2.4        4         M6          \n",
       "3 2014      ACURA ILX HYBRID COMPACT      1.5        4         AV7         \n",
       "4 2014      ACURA MDX 4WD    SUV - SMALL  3.5        6         AS6         \n",
       "5 2014      ACURA RDX AWD    SUV - SMALL  3.5        6         AS6         \n",
       "6 2014      ACURA RLX        MID-SIZE     3.5        6         AS6         \n",
       "  FUELTYPE FUELCONSUMPTION_CITY FUELCONSUMPTION_HWY FUELCONSUMPTION_COMB\n",
       "1 Z         9.9                 6.7                  8.5                \n",
       "2 Z        11.2                 7.7                  9.6                \n",
       "3 Z         6.0                 5.8                  5.9                \n",
       "4 Z        12.7                 9.1                 11.1                \n",
       "5 Z        12.1                 8.7                 10.6                \n",
       "6 Z        11.9                 7.7                 10.0                \n",
       "  FUELCONSUMPTION_COMB_MPG CO2EMISSIONS\n",
       "1 33                       196         \n",
       "2 29                       221         \n",
       "3 48                       136         \n",
       "4 25                       255         \n",
       "5 27                       244         \n",
       "6 28                       230         "
      ]
     },
     "metadata": {},
     "output_type": "display_data"
    }
   ],
   "source": [
    "Co2Cons <- read.csv(file = 'FuelConsumptionCo2.csv')\n",
    "head(Co2Cons)"
   ]
  },
  {
   "cell_type": "markdown",
   "id": "2f9a1a51-f826-42a4-9fac-04980abc6e3c",
   "metadata": {},
   "source": [
    "### Exploration des données\n",
    "Commençons par une exploration descriptive de nos données."
   ]
  },
  {
   "cell_type": "code",
   "execution_count": 92,
   "id": "6572406f-769a-426f-90cb-84bee667cafd",
   "metadata": {},
   "outputs": [
    {
     "data": {
      "text/plain": [
       "   MODELYEAR               MAKE              MODEL              VEHICLECLASS\n",
       " Min.   :2014   FORD         : 90   F150 FFV    :   8   MID-SIZE      :178  \n",
       " 1st Qu.:2014   CHEVROLET    : 86   F150 FFV 4X4:   8   COMPACT       :172  \n",
       " Median :2014   BMW          : 64   ACCORD      :   6   SUV - SMALL   :154  \n",
       " Mean   :2014   MERCEDES-BENZ: 59   BEETLE      :   6   SUV - STANDARD:110  \n",
       " 3rd Qu.:2014   AUDI         : 49   FOCUS FFV   :   6   FULL-SIZE     : 86  \n",
       " Max.   :2014   GMC          : 49   MUSTANG     :   5   TWO-SEATER    : 71  \n",
       "                (Other)      :670   (Other)     :1028   (Other)       :296  \n",
       "   ENGINESIZE      CYLINDERS       TRANSMISSION FUELTYPE FUELCONSUMPTION_CITY\n",
       " Min.   :1.000   Min.   : 3.000   A6     :222   D: 27    Min.   : 4.60       \n",
       " 1st Qu.:2.000   1st Qu.: 4.000   AS6    :189   E: 92    1st Qu.:10.25       \n",
       " Median :3.400   Median : 6.000   M6     :141   X:514    Median :12.60       \n",
       " Mean   :3.346   Mean   : 5.795   A8     : 87   Z:434    Mean   :13.30       \n",
       " 3rd Qu.:4.300   3rd Qu.: 8.000   AS8    : 80            3rd Qu.:15.55       \n",
       " Max.   :8.400   Max.   :12.000   AS7    : 76            Max.   :30.20       \n",
       "                                  (Other):272                                \n",
       " FUELCONSUMPTION_HWY FUELCONSUMPTION_COMB FUELCONSUMPTION_COMB_MPG\n",
       " Min.   : 4.900      Min.   : 4.70        Min.   :11.00           \n",
       " 1st Qu.: 7.500      1st Qu.: 9.00        1st Qu.:21.00           \n",
       " Median : 8.800      Median :10.90        Median :26.00           \n",
       " Mean   : 9.475      Mean   :11.58        Mean   :26.44           \n",
       " 3rd Qu.:10.850      3rd Qu.:13.35        3rd Qu.:31.00           \n",
       " Max.   :20.500      Max.   :25.80        Max.   :60.00           \n",
       "                                                                  \n",
       "  CO2EMISSIONS  \n",
       " Min.   :108.0  \n",
       " 1st Qu.:207.0  \n",
       " Median :251.0  \n",
       " Mean   :256.2  \n",
       " 3rd Qu.:294.0  \n",
       " Max.   :488.0  \n",
       "                "
      ]
     },
     "metadata": {},
     "output_type": "display_data"
    }
   ],
   "source": [
    "summary(Co2Cons)"
   ]
  },
  {
   "cell_type": "markdown",
   "id": "1e341545-47f5-4863-8bef-49531a28ea6d",
   "metadata": {},
   "source": [
    "Sélectionons certaines fonctionnalités pour en explorer davantage."
   ]
  },
  {
   "cell_type": "code",
   "execution_count": 93,
   "id": "919cbb24-abe1-4ad2-b937-06941a8352fa",
   "metadata": {},
   "outputs": [
    {
     "data": {
      "text/html": [
       "<table>\n",
       "<thead><tr><th scope=col>ENGINESIZE</th><th scope=col>CYLINDERS</th><th scope=col>FUELCONSUMPTION_COMB</th><th scope=col>CO2EMISSIONS</th></tr></thead>\n",
       "<tbody>\n",
       "\t<tr><td>2.0 </td><td>4   </td><td> 8.5</td><td>196 </td></tr>\n",
       "\t<tr><td>2.4 </td><td>4   </td><td> 9.6</td><td>221 </td></tr>\n",
       "\t<tr><td>1.5 </td><td>4   </td><td> 5.9</td><td>136 </td></tr>\n",
       "\t<tr><td>3.5 </td><td>6   </td><td>11.1</td><td>255 </td></tr>\n",
       "\t<tr><td>3.5 </td><td>6   </td><td>10.6</td><td>244 </td></tr>\n",
       "\t<tr><td>3.5 </td><td>6   </td><td>10.0</td><td>230 </td></tr>\n",
       "</tbody>\n",
       "</table>\n"
      ],
      "text/latex": [
       "\\begin{tabular}{r|llll}\n",
       " ENGINESIZE & CYLINDERS & FUELCONSUMPTION\\_COMB & CO2EMISSIONS\\\\\n",
       "\\hline\n",
       "\t 2.0  & 4    &  8.5 & 196 \\\\\n",
       "\t 2.4  & 4    &  9.6 & 221 \\\\\n",
       "\t 1.5  & 4    &  5.9 & 136 \\\\\n",
       "\t 3.5  & 6    & 11.1 & 255 \\\\\n",
       "\t 3.5  & 6    & 10.6 & 244 \\\\\n",
       "\t 3.5  & 6    & 10.0 & 230 \\\\\n",
       "\\end{tabular}\n"
      ],
      "text/markdown": [
       "\n",
       "| ENGINESIZE | CYLINDERS | FUELCONSUMPTION_COMB | CO2EMISSIONS |\n",
       "|---|---|---|---|\n",
       "| 2.0  | 4    |  8.5 | 196  |\n",
       "| 2.4  | 4    |  9.6 | 221  |\n",
       "| 1.5  | 4    |  5.9 | 136  |\n",
       "| 3.5  | 6    | 11.1 | 255  |\n",
       "| 3.5  | 6    | 10.6 | 244  |\n",
       "| 3.5  | 6    | 10.0 | 230  |\n",
       "\n"
      ],
      "text/plain": [
       "  ENGINESIZE CYLINDERS FUELCONSUMPTION_COMB CO2EMISSIONS\n",
       "1 2.0        4          8.5                 196         \n",
       "2 2.4        4          9.6                 221         \n",
       "3 1.5        4          5.9                 136         \n",
       "4 3.5        6         11.1                 255         \n",
       "5 3.5        6         10.6                 244         \n",
       "6 3.5        6         10.0                 230         "
      ]
     },
     "metadata": {},
     "output_type": "display_data"
    }
   ],
   "source": [
    "cCo2Cons = Co2Cons[c('ENGINESIZE','CYLINDERS','FUELCONSUMPTION_COMB','CO2EMISSIONS')]\n",
    "head(cCo2Cons)"
   ]
  },
  {
   "cell_type": "code",
   "execution_count": 94,
   "id": "ffd1e64d-3ab0-47d0-81ca-aa44ae2d5f8c",
   "metadata": {},
   "outputs": [],
   "source": [
    "if(\"ggplot2\" %in% rownames(installed.packages()) == FALSE) {install.packages(\"ggplot2\")}\n",
    "library(ggplot2)"
   ]
  },
  {
   "cell_type": "code",
   "execution_count": 95,
   "id": "321e0b9e-3cfb-489e-bfb7-6a8c8dc61d5d",
   "metadata": {},
   "outputs": [],
   "source": [
    "multiplot <- function(..., plotlist=NULL, file, cols=1, layout=NULL) {\n",
    "  library(grid)\n",
    "\n",
    "  # Make a list from the ... arguments and plotlist\n",
    "  plots <- c(list(...), plotlist)\n",
    "\n",
    "  numPlots = length(plots)\n",
    "\n",
    "  # If layout is NULL, then use 'cols' to determine layout\n",
    "  if (is.null(layout)) {\n",
    "    # Make the panel\n",
    "    # ncol: Number of columns of plots\n",
    "    # nrow: Number of rows needed, calculated from # of cols\n",
    "    layout <- matrix(seq(1, cols * ceiling(numPlots/cols)),\n",
    "                    ncol = cols, nrow = ceiling(numPlots/cols))\n",
    "  }\n",
    "\n",
    " if (numPlots==1) {\n",
    "    print(plots[[1]])\n",
    "\n",
    "  } else {\n",
    "    # Set up the page\n",
    "    grid.newpage()\n",
    "    pushViewport(viewport(layout = grid.layout(nrow(layout), ncol(layout))))\n",
    "\n",
    "    # Make each plot, in the correct location\n",
    "    for (i in 1:numPlots) {\n",
    "      # Get the i,j matrix positions of the regions that contain this subplot\n",
    "      matchidx <- as.data.frame(which(layout == i, arr.ind = TRUE))\n",
    "\n",
    "      print(plots[[i]], vp = viewport(layout.pos.row = matchidx$row,\n",
    "                                      layout.pos.col = matchidx$col))\n",
    "    }\n",
    "  }\n",
    "}"
   ]
  },
  {
   "cell_type": "code",
   "execution_count": 96,
   "id": "3ef346c1-5059-4d5a-9824-45657de7b6cc",
   "metadata": {},
   "outputs": [
    {
     "data": {
      "image/png": "[encoded data removed]",
      "text/plain": [
       "plot without title"
      ]
     },
     "metadata": {},
     "output_type": "display_data"
    }
   ],
   "source": [
    "myplots <- list()  # new empty list\n",
    "for(i in 1:ncol(cCo2Cons)){\n",
    "  col <- names(cCo2Cons)[i]\n",
    "  ggp <- ggplot(cCo2Cons, aes_string(x = col)) +\n",
    "    geom_histogram(bins = 10, fill = \"cornflowerblue\", color = \"black\") \n",
    "#    geom_vline(xintercept = mean(mtcars[[col]]), col = \"red\", lwd=1.5) \n",
    "  myplots[[i]] <- ggp  # add each plot into plot list\n",
    "}\n",
    "\n",
    "multiplot(plotlist = myplots, cols = 3)"
   ]
  },
  {
   "cell_type": "code",
   "execution_count": 97,
   "id": "7f9989c8-e8f6-499a-ba1f-3f5c4886fea3",
   "metadata": {},
   "outputs": [
    {
     "data": {
      "image/png": "[encoded data removed]",
      "text/plain": [
       "Plot with title \"Scatterplot Example\""
      ]
     },
     "metadata": {},
     "output_type": "display_data"
    }
   ],
   "source": [
    "plot(cCo2Cons$FUELCONSUMPTION_COMB, cCo2Cons$CO2EMISSIONS, main=\"Scatterplot Example\",xlab=\"FUELCONSUMPTION_COMB\", \n",
    "     ylab=\"Emission\", pch=19, col=\"blue\")"
   ]
  },
  {
   "cell_type": "code",
   "execution_count": 98,
   "id": "a44b66ba-9196-476b-91aa-d64689332ce4",
   "metadata": {},
   "outputs": [
    {
     "data": {
      "image/png": "[encoded data removed]",
      "text/plain": [
       "Plot with title \"Scatterplot Example\""
      ]
     },
     "metadata": {},
     "output_type": "display_data"
    }
   ],
   "source": [
    "plot(cCo2Cons$ENGINESIZE, cCo2Cons$CO2EMISSIONS, main=\"Scatterplot Example\",xlab=\"ENGINESIZE\", \n",
    "     ylab=\"Emission\", pch=19, col=\"blue\")"
   ]
  },
  {
   "cell_type": "markdown",
   "id": "aa8edadd-9bef-4dc0-979b-6974fe70b68e",
   "metadata": {},
   "source": [
    "## S'entraîner\n",
    "Tracez __CYLINDER__ vs l'émission, pour voir à quel point leur relation est linéaire :"
   ]
  },
  {
   "cell_type": "code",
   "execution_count": null,
   "id": "7f56abf0-d82c-44d8-a9a8-4f741b24a707",
   "metadata": {},
   "outputs": [],
   "source": [
    "# écrivez votre code ici"
   ]
  },
  {
   "cell_type": "markdown",
   "id": "ce53b680-5bfe-4f11-9024-bb67846f3de4",
   "metadata": {},
   "source": [
    "Double-cliquez __ici__ pour voir la solution.\n",
    "\n",
    "<!-- Your answer is below:\n",
    "    \n",
    "plot(cCo2Cons$CYLINDERS, cCo2Cons$CO2EMISSIONS, main=\"Scatterplot Example\",xlab=\"ENGINESIZE\", \n",
    "     ylab=\"Emission\", pch=19, col=\"blue\")\n",
    "\n",
    "-->"
   ]
  },
  {
   "cell_type": "markdown",
   "id": "0843f591-3e66-43d3-8c5c-901d9b75fc4a",
   "metadata": {},
   "source": [
    "#### Création d'un ensemble de données de train et de test\n",
    "Train / Test Split implique la division de l'ensemble de données en ensembles d'apprentissage et de test respectivement, qui sont mutuellement exclusifs. Après quoi, vous vous entraînez avec l'ensemble d'entraînement et testez avec l'ensemble de test.\n",
    "Cela fournira une évaluation plus précise de la précision hors échantillon, car l'ensemble de données de test ne fait pas partie de l'ensemble de données qui a été utilisé pour entraîner les données. C'est plus réaliste pour les problèmes du monde réel.\n",
    "\n",
    "Cela signifie que nous connaissons le résultat de chaque point dans cet ensemble de données, ce qui en fait un excellent test! Et comme ces données n'ont pas été utilisées pour entraîner le modèle, le modèle n'a aucune connaissance du résultat de ces points de données. Donc, en substance, il s'agit vraiment d'un test hors échantillon."
   ]
  },
  {
   "cell_type": "code",
   "execution_count": 99,
   "id": "0c2a114b-2a8b-4903-b813-6d12cc87843b",
   "metadata": {},
   "outputs": [],
   "source": [
    "dt = sort(sample(nrow(cCo2Cons), nrow(cCo2Cons)*.8))\n",
    "train<-cCo2Cons[dt,]\n",
    "test<-cCo2Cons[-dt,]"
   ]
  },
  {
   "cell_type": "markdown",
   "id": "baafb119-dfe6-4d5f-a67b-910634dba096",
   "metadata": {},
   "source": [
    "### Modèle de régression simple\n",
    "La régression linéaire ajuste un modèle linéaire avec des coefficients B = (B1, ..., Bn) pour minimiser la `` somme résiduelle des carrés '' entre la variable indépendante x dans l'ensemble de données et la variable dépendante y par l'approximation linéaire."
   ]
  },
  {
   "cell_type": "markdown",
   "id": "5222f25d-a2f7-4024-b61b-78b60a7bb6d4",
   "metadata": {},
   "source": [
    "#### Distribution des données d'entrainement"
   ]
  },
  {
   "cell_type": "code",
   "execution_count": 126,
   "id": "21c1557a-f817-42ae-9cac-ca6b327b6978",
   "metadata": {},
   "outputs": [
    {
     "data": {
      "image/png": "[encoded data removed]",
      "text/plain": [
       "Plot with title \"Scatterplot Example\""
      ]
     },
     "metadata": {},
     "output_type": "display_data"
    }
   ],
   "source": [
    "plot(train$ENGINESIZE, train$CO2EMISSIONS, main=\"Scatterplot Example\",xlab=\"ENGINESIZE\", \n",
    "     ylab=\"Emission\", pch=19, col=\"blue\")"
   ]
  },
  {
   "cell_type": "markdown",
   "id": "520a1276-b901-405e-b7af-ad33d9e669a5",
   "metadata": {},
   "source": [
    "#### La modélisation\n",
    "Utilisation de la fonction lm pour modéliser les données."
   ]
  },
  {
   "cell_type": "code",
   "execution_count": 101,
   "id": "67a50c99-d5dd-428f-a32b-f26ee3074687",
   "metadata": {},
   "outputs": [
    {
     "data": {
      "text/plain": [
       "\n",
       "Call:\n",
       "lm(formula = y ~ x, data = train)\n",
       "\n",
       "Coefficients:\n",
       "(Intercept)            x  \n",
       "     125.40        39.14  \n"
      ]
     },
     "metadata": {},
     "output_type": "display_data"
    }
   ],
   "source": [
    "x <- train$ENGINESIZE\n",
    "y <- train$CO2EMISSIONS\n",
    "model<-lm(y ~ x, data = train)\n",
    "model"
   ]
  },
  {
   "cell_type": "markdown",
   "id": "731149c1-56cd-494c-902e-7ba0358173cf",
   "metadata": {},
   "source": [
    "Comme mentionné précédemment, __Coefficient__ et __Intercepte__ dans la régression linéaire simple, sont les paramètres de la ligne d'ajustement.\n",
    "Étant donné qu'il s'agit d'une régression linéaire simple, avec seulement 2 paramètres, et sachant que les paramètres sont l'intercepte et la pente de la droite, lm peut les estimer directement à partir de nos données.\n",
    "Notez que toutes les données doivent être disponibles pour parcourir et calculer les paramètres."
   ]
  },
  {
   "cell_type": "markdown",
   "id": "83f205e2-948c-4114-9f3d-8782d1d3aa95",
   "metadata": {},
   "source": [
    "#### Tracer les sorties\n",
    "Nous pouvons tracer la ligne d'ajustement dans le même graphe représentant les données:"
   ]
  },
  {
   "cell_type": "code",
   "execution_count": 125,
   "id": "da83adb8-be59-480a-a8ef-2fa82e0c385a",
   "metadata": {},
   "outputs": [
    {
     "data": {
      "image/png": "[encoded data removed]",
      "text/plain": [
       "Plot with title \"Scatterplot Example\""
      ]
     },
     "metadata": {},
     "output_type": "display_data"
    }
   ],
   "source": [
    "plot(train$ENGINESIZE, train$CO2EMISSIONS, main=\"Scatterplot Example\",xlab=\"ENGINESIZE\", \n",
    "     ylab=\"Emission\", pch=19, col=\"blue\")\n",
    "abline(lm(y ~ x, data = train), col = \"red\")"
   ]
  },
  {
   "cell_type": "markdown",
   "id": "67078156-2207-49c7-94fc-1562b2d002c5",
   "metadata": {},
   "source": [
    "#### Évaluation\n",
    "Nous comparons les valeurs réelles et les valeurs prédites pour calculer la précision d'un modèle de régression. Les mesures d'évaluation jouent un rôle clé dans le développement d'un modèle, car elles fournissent un aperçu sur des domaines qui nécessitent des améliorations.\n",
    "\n",
    "Il existe différentes métriques d'évaluation du modèle, utilisons ici MSE pour calculer la précision de notre modèle en fonction de l'ensemble de test:\n",
    "    - Erreur absolue moyenne: C'est la moyenne de la valeur absolue des erreurs. Il s'agit de la mesure la plus simple à comprendre, car il ne s'agit que d'une erreur moyenne.\n",
    "    - Erreur quadratique moyenne (MSE): l'erreur quadratique moyenne (MSE) est la moyenne de l'erreur quadratique. elle est plus populaire que l’erreur absolue moyenne, car l’accent est davantage mis sur les erreurs importantes. Cela est dû au fait que le terme carré augmente de manière exponentielle les erreurs les plus importantes par rapport aux plus petites.\n",
    "    - Erreur quadratique moyenne (RMSE).\n",
    "    - Le R au carré n'est pas une erreur, mais c'est une métrique populaire pour la précision de votre modèle. Il représente la proximité des données par rapport à la droite de régression ajustée. Plus le R au carré est élevé, plus le modèle s'adapte à vos données. Le meilleur score possible est de 1,0 et il peut être négatif (car le modèle peut être arbitrairement pire)."
   ]
  },
  {
   "cell_type": "code",
   "execution_count": 129,
   "id": "4db10afe-0779-4375-84df-b7d65609714c",
   "metadata": {},
   "outputs": [
    {
     "data": {
      "text/html": [
       "0.762507799589139"
      ],
      "text/latex": [
       "0.762507799589139"
      ],
      "text/markdown": [
       "0.762507799589139"
      ],
      "text/plain": [
       "[1] 0.7625078"
      ]
     },
     "metadata": {},
     "output_type": "display_data"
    }
   ],
   "source": [
    "M.lm=lm(CO2EMISSIONS~ENGINESIZE,data=test)\n",
    "summary(M.lm)$r.squared"
   ]
  },
  {
   "cell_type": "code",
   "execution_count": 137,
   "id": "dc841f61-4522-42a0-a9d0-eda63bc80a33",
   "metadata": {},
   "outputs": [],
   "source": [
    "predicted=predict(model, newdata = test)\n",
    "original <- test$CO2EMISSIONS\n",
    "d = original-predicted\n",
    "mse = mean((d)^2)\n",
    "mae = mean(abs(d))\n",
    "rmse = sqrt(mse)\n",
    "R2 = 1-(sum((d)^2)/sum((original-mean(original))^2))"
   ]
  },
  {
   "cell_type": "code",
   "execution_count": 138,
   "id": "b132df1a-5de8-49ad-bb64-23f5d9b9352e",
   "metadata": {},
   "outputs": [
    {
     "name": "stdout",
     "output_type": "stream",
     "text": [
      " MAE: 22.70658 \n",
      " MSE: 926.1877 \n",
      " RMSE: 30.43333 \n",
      " R-squared: 0.7623336"
     ]
    }
   ],
   "source": [
    "cat(\" MAE:\", mae, \"\\n\", \"MSE:\", mse, \"\\n\", \n",
    "    \"RMSE:\", rmse, \"\\n\", \"R-squared:\", R2)"
   ]
  },
  {
   "cell_type": "code",
   "execution_count": null,
   "id": "e8ce1b6a-8a2b-411f-85c1-49f960c08d9e",
   "metadata": {},
   "outputs": [],
   "source": []
  }
 ],
 "metadata": {
  "kernelspec": {
   "display_name": "R",
   "language": "R",
   "name": "ir"
  },
  "language_info": {
   "codemirror_mode": "r",
   "file_extension": ".r",
   "mimetype": "text/x-r-source",
   "name": "R",
   "pygments_lexer": "r",
   "version": "3.6.1"
  }
 },
 "nbformat": 4,
 "nbformat_minor": 5
}
