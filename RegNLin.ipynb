{
 "cells": [
  {
   "cell_type": "markdown",
   "id": "3ade8a04-aa02-4668-9033-6676c86bc2f0",
   "metadata": {},
   "source": [
    "<a href=\"https://www.bigdatauniversity.com\"><img src = \"https://ibm.box.com/shared/static/cw2c7r3o20w9zn8gkecaeyjhgw3xdgbj.png\" width = 400, align = \"center\"></a>\n",
    "# <center>Analyse de la régression non linéaire</center>"
   ]
  },
  {
   "cell_type": "markdown",
   "id": "76e71ab5-4e9d-4493-b0ce-7880916f5447",
   "metadata": {},
   "source": [
    "Si les données montrent une tendance courbe, la régression linéaire ne produira pas de résultats très précis par rapport à une régression non linéaire car, comme son nom l'indique, la régression linéaire suppose que les données sont linéaires. Apprenons les régressions non linéaires et appliquons un exemple sur python. Dans ce cahier, nous avons ajusté un modèle non linéaire aux points de données correspondant au PIB de la Chine de 1960 à 2014."
   ]
  },
  {
   "cell_type": "markdown",
   "id": "a4265d6a-786c-41a7-8880-f0b45bda8d3d",
   "metadata": {},
   "source": [
    "Rappelez-vous d'abord comment la régression linéaire peut modéliser un ensemble de données. Il modélise une relation linéaire entre une variable dépendante y et une variable indépendante x. Il y avait une équation simple, de degré 1, par exemple y = 1.08310 * x - 0.25176 comme dans l'exemple suivant"
   ]
  },
  {
   "cell_type": "code",
   "execution_count": 1,
   "id": "86eeb606-7b2f-413f-bd32-edc64cb18802",
   "metadata": {},
   "outputs": [
    {
     "data": {
      "text/plain": [
       "\n",
       "Call:\n",
       "lm(formula = y1 ~ x)\n",
       "\n",
       "Residuals:\n",
       "     Min       1Q   Median       3Q      Max \n",
       "-0.80611 -0.14955 -0.03788  0.26443  0.60554 \n",
       "\n",
       "Coefficients:\n",
       "            Estimate Std. Error t value Pr(>|t|)    \n",
       "(Intercept) -0.25176    0.30456  -0.827    0.432    \n",
       "x            1.08310    0.04908  22.066 1.88e-08 ***\n",
       "---\n",
       "Signif. codes:  0 '***' 0.001 '**' 0.01 '*' 0.05 '.' 0.1 ' ' 1\n",
       "\n",
       "Residual standard error: 0.4458 on 8 degrees of freedom\n",
       "Multiple R-squared:  0.9838,\tAdjusted R-squared:  0.9818 \n",
       "F-statistic: 486.9 on 1 and 8 DF,  p-value: 1.879e-08\n"
      ]
     },
     "metadata": {},
     "output_type": "display_data"
    },
    {
     "data": {
      "text/plain": [
       "\n",
       "Call:\n",
       "lm(formula = y1 ~ x + x_2)\n",
       "\n",
       "Residuals:\n",
       "     Min       1Q   Median       3Q      Max \n",
       "-0.64261 -0.22512  0.02171  0.14499  0.63234 \n",
       "\n",
       "Coefficients:\n",
       "            Estimate Std. Error t value Pr(>|t|)   \n",
       "(Intercept)  0.19788    0.52024   0.380  0.71495   \n",
       "x            0.85828    0.21727   3.950  0.00553 **\n",
       "x_2          0.02044    0.01925   1.062  0.32360   \n",
       "---\n",
       "Signif. codes:  0 '***' 0.001 '**' 0.01 '*' 0.05 '.' 0.1 ' ' 1\n",
       "\n",
       "Residual standard error: 0.4423 on 7 degrees of freedom\n",
       "Multiple R-squared:  0.9861,\tAdjusted R-squared:  0.9821 \n",
       "F-statistic: 247.9 on 2 and 7 DF,  p-value: 3.184e-07\n"
      ]
     },
     "metadata": {},
     "output_type": "display_data"
    },
    {
     "data": {
      "image/png": "[encoded data removed]",
      "text/plain": [
       "Plot with title \"Y1\n",
       " Modèle linéaire: 0.98 \n",
       " Modèle non linéaire: 0.99\""
      ]
     },
     "metadata": {},
     "output_type": "display_data"
    }
   ],
   "source": [
    "#Création des jeux de données\n",
    "x=c(1,2,3,4,5,6,7,8,9,10) #valeur de x\n",
    "y1=c(1,2,3,4,5,6,7,8,9,10) #distribution linéaire\n",
    "y2=c(0,1,2,3,4,5,5,5,5,5) #croissance puis stagnation\n",
    "y3=c(0,1,2,3,4,5,4,3,2,1) #croissance sommet décroissance, soit parabolique\n",
    "y4=c(0,1,1,1,2,2,6,8,9,10) #non croissance puis croissance rapide\n",
    "\n",
    "#On crée un bruit\n",
    "bruit <- rnorm(length(x), mean=0, sd=.5)\n",
    "\n",
    "#On ajoute le bruit à chacune des distributions de y\n",
    "y1=y1+bruit\n",
    "y2=y2+bruit\n",
    "y3=y3+bruit\n",
    "y4=y4+bruit\n",
    "#y5=y5+bruit\n",
    "\n",
    "#On crée une nouvelle variable qui n'est que le x au carré et qui s'ajoutera aux régressions pour produire des modèles non linéaires.\n",
    "x_2 <- x^2\n",
    "\n",
    "#On crée un ensemble de quatre graphiques\n",
    "\n",
    "#Premier cas\n",
    "modeleLineaire = lm(y1 ~ x)\n",
    "modeleNonLineaire = lm(y1 ~ x + x_2)\n",
    "summary(modeleLineaire)\n",
    "summary(modeleNonLineaire)\n",
    "plot(x,y1, main=paste(\"Y1\\n\",\"Modèle linéaire:\" ,round(summary(modeleLineaire)$r.squared,2),\n",
    "                      \"\\n Modèle non linéaire:\",round(summary(modeleNonLineaire)$r.squared,2)))\n",
    "lines(x, predict(modeleLineaire),col=\"red\",lwd=3)\n",
    "lines(x, predict(modeleNonLineaire),col=\"blue\",lwd=3)"
   ]
  },
  {
   "cell_type": "markdown",
   "id": "85d827a6-2b81-4589-b1e0-b59740112498",
   "metadata": {},
   "source": [
    "Bien que la régression linéaire soit très bonne pour résoudre de nombreux problèmes, elle ne peut pas être utilisée pour tous les ensembles de données."
   ]
  },
  {
   "cell_type": "code",
   "execution_count": 2,
   "id": "d1761c56-f3bb-4794-8f09-9c71985e251e",
   "metadata": {},
   "outputs": [
    {
     "data": {
      "text/plain": [
       "\n",
       "Call:\n",
       "lm(formula = y3 ~ x)\n",
       "\n",
       "Residuals:\n",
       "     Min       1Q   Median       3Q      Max \n",
       "-1.95487 -0.97656  0.08972  1.05123  1.78244 \n",
       "\n",
       "Coefficients:\n",
       "            Estimate Std. Error t value Pr(>|t|)\n",
       "(Intercept)   1.4149     0.9800   1.444    0.187\n",
       "x             0.2346     0.1579   1.485    0.176\n",
       "\n",
       "Residual standard error: 1.435 on 8 degrees of freedom\n",
       "Multiple R-squared:  0.2162,\tAdjusted R-squared:  0.1182 \n",
       "F-statistic: 2.206 on 1 and 8 DF,  p-value: 0.1757\n"
      ]
     },
     "metadata": {},
     "output_type": "display_data"
    },
    {
     "data": {
      "text/plain": [
       "\n",
       "Call:\n",
       "lm(formula = y3 ~ x + x_2)\n",
       "\n",
       "Residuals:\n",
       "     Min       1Q   Median       3Q      Max \n",
       "-0.50488 -0.29440 -0.03542  0.23954  0.76870 \n",
       "\n",
       "Coefficients:\n",
       "            Estimate Std. Error t value Pr(>|t|)    \n",
       "(Intercept) -2.30212    0.52471  -4.387  0.00321 ** \n",
       "x            2.09313    0.21914   9.552 2.89e-05 ***\n",
       "x_2         -0.16896    0.01942  -8.702 5.31e-05 ***\n",
       "---\n",
       "Signif. codes:  0 '***' 0.001 '**' 0.01 '*' 0.05 '.' 0.1 ' ' 1\n",
       "\n",
       "Residual standard error: 0.4461 on 7 degrees of freedom\n",
       "Multiple R-squared:  0.9337,\tAdjusted R-squared:  0.9147 \n",
       "F-statistic: 49.27 on 2 and 7 DF,  p-value: 7.512e-05\n"
      ]
     },
     "metadata": {},
     "output_type": "display_data"
    },
    {
     "data": {
      "image/png": "[encoded data removed]",
      "text/plain": [
       "Plot with title \"Y3\n",
       " Modèle linéaire: 0.22 \n",
       " Modèle non linéaire: 0.93\""
      ]
     },
     "metadata": {},
     "output_type": "display_data"
    }
   ],
   "source": [
    "#Troisième cas\n",
    "modeleLineaire = lm(y3 ~ x)\n",
    "modeleNonLineaire = lm(y3 ~ x + x_2)\n",
    "summary(modeleLineaire)\n",
    "summary(modeleNonLineaire)\n",
    "plot(x,y3, main=paste(\"Y3\\n\",\"Modèle linéaire:\" ,round(summary(modeleLineaire)$r.squared,2),\n",
    "                      \"\\n Modèle non linéaire:\",round(summary(modeleNonLineaire)$r.squared,2)))\n",
    "lines(x, predict(modeleLineaire),col=\"red\",lwd=3)\n",
    "lines(x, predict(modeleNonLineaire),col=\"blue\",lwd=3)"
   ]
  },
  {
   "cell_type": "markdown",
   "id": "2e814ae2-e67b-4354-b7e7-18bf78440596",
   "metadata": {},
   "source": [
    "Les régressions non linéaires sont une relation entre des variables indépendantes $ x $ et une variable dépendante $ y $ qui aboutissent à des données modélisées par fonction non linéaire. Essentiellement, toute relation qui n'est pas linéaire peut être qualifiée de non linéaire et est généralement représentée par le polynôme de $ k $ degrés (puissance maximale de $ x $).\n",
    "\n",
    "$$ \\ y = a x ^ 3 + b x ^ 2 + c x + d \\ $$"
   ]
  },
  {
   "cell_type": "code",
   "execution_count": 7,
   "id": "2934d1bb-feb9-472f-a7c7-4e6e42a0f18a",
   "metadata": {},
   "outputs": [
    {
     "data": {
      "text/plain": [
       "\n",
       "Call:\n",
       "lm(formula = y3 ~ x)\n",
       "\n",
       "Residuals:\n",
       "    Min      1Q  Median      3Q     Max \n",
       "-45.657 -18.547  -0.961  15.093  63.360 \n",
       "\n",
       "Coefficients:\n",
       "            Estimate Std. Error t value Pr(>|t|)    \n",
       "(Intercept)  10.5385     2.3561   4.473 2.06e-05 ***\n",
       "x            16.0430     0.8081  19.852  < 2e-16 ***\n",
       "---\n",
       "Signif. codes:  0 '***' 0.001 '**' 0.01 '*' 0.05 '.' 0.1 ' ' 1\n",
       "\n",
       "Residual standard error: 23.68 on 99 degrees of freedom\n",
       "Multiple R-squared:  0.7992,\tAdjusted R-squared:  0.7972 \n",
       "F-statistic: 394.1 on 1 and 99 DF,  p-value: < 2.2e-16\n"
      ]
     },
     "metadata": {},
     "output_type": "display_data"
    },
    {
     "data": {
      "text/plain": [
       "\n",
       "Call:\n",
       "lm(formula = y3 ~ x + x_2 + x_3)\n",
       "\n",
       "Residuals:\n",
       "     Min       1Q   Median       3Q      Max \n",
       "-28.5570  -7.4935   0.0027   6.9563  25.4101 \n",
       "\n",
       "Coefficients:\n",
       "            Estimate Std. Error t value Pr(>|t|)    \n",
       "(Intercept)  2.87836    1.55108   1.856   0.0665 .  \n",
       "x            0.33973    0.88693   0.383   0.7025    \n",
       "x_2          0.90119    0.13602   6.625 1.94e-09 ***\n",
       "x_3          1.02649    0.05314  19.317  < 2e-16 ***\n",
       "---\n",
       "Signif. codes:  0 '***' 0.001 '**' 0.01 '*' 0.05 '.' 0.1 ' ' 1\n",
       "\n",
       "Residual standard error: 10.39 on 97 degrees of freedom\n",
       "Multiple R-squared:  0.9621,\tAdjusted R-squared:  0.9609 \n",
       "F-statistic: 821.1 on 3 and 97 DF,  p-value: < 2.2e-16\n"
      ]
     },
     "metadata": {},
     "output_type": "display_data"
    },
    {
     "data": {
      "image/png": "[encoded data removed]",
      "text/plain": [
       "Plot with title \"Y1\n",
       " Modèle linéaire: 0.8 \n",
       " Modèle non linéaire: 0.96\""
      ]
     },
     "metadata": {},
     "output_type": "display_data"
    }
   ],
   "source": [
    "x=seq(from = -5, to = 5, by = 0.1)\n",
    "y3 = 1*(x^3) + 1*(x^2) + 1*x + 3\n",
    "bruit <- rnorm(length(x), mean=0, sd=.5)\n",
    "y3=y3+20*bruit\n",
    "x_2 <- x^2\n",
    "x_3 <- x^3\n",
    "modeleLineaire = lm(y3 ~ x)\n",
    "modeleNonLineaire = lm(y3 ~ x + x_2 + x_3)\n",
    "summary(modeleLineaire)\n",
    "summary(modeleNonLineaire)\n",
    "plot(x,y3, main=paste(\"Y1\\n\",\"Modèle linéaire:\" ,round(summary(modeleLineaire)$r.squared,2),\n",
    "                      \"\\n Modèle non linéaire:\",round(summary(modeleNonLineaire)$r.squared,2)))\n",
    "lines(x, predict(modeleLineaire),col=\"red\",lwd=3)\n",
    "lines(x, predict(modeleNonLineaire),col=\"blue\",lwd=3)"
   ]
  },
  {
   "cell_type": "markdown",
   "id": "43e52dbc-482d-4fca-8a3e-2c739182b8d7",
   "metadata": {},
   "source": [
    "Comme vous pouvez le voir, cette fonction a $ x ^ 3 $ et $ x ^ 2 $ comme variables indépendantes. De plus, le graphique de cette fonction n'est pas une ligne droite sur le plan 2D. C'est donc une fonction non linéaire."
   ]
  },
  {
   "cell_type": "markdown",
   "id": "12a29e46-f8e1-4ad2-9224-02613d343747",
   "metadata": {},
   "source": [
    "Les fonctions non linéaires peuvent avoir des éléments tels que des exponentielles, des logarithmes, des fractions et autres. Par exemple: $$ y = \\ log (x) $$\n",
    "    \n",
    "Ou même, plus compliqué comme:\n",
    "$$ y = \\ log (a x ^ 3 + b x ^ 2 + c x + d) $$"
   ]
  },
  {
   "cell_type": "code",
   "execution_count": 8,
   "id": "66bfbff4-5677-4e51-a819-e39b2631d90b",
   "metadata": {},
   "outputs": [
    {
     "name": "stderr",
     "output_type": "stream",
     "text": [
      "Warning message in nls(y ~ a * x/(b + x)):\n",
      "\"No starting values specified for some parameters.\n",
      "Initializing 'a', 'b' to '1.'.\n",
      "Consider specifying 'start' or using a selfStart model\""
     ]
    },
    {
     "data": {
      "text/html": [
       "0.949659792237318"
      ],
      "text/latex": [
       "0.949659792237318"
      ],
      "text/markdown": [
       "0.949659792237318"
      ],
      "text/plain": [
       "[1] 0.9496598"
      ]
     },
     "metadata": {},
     "output_type": "display_data"
    },
    {
     "data": {
      "image/png": "[encoded data removed]",
      "text/plain": [
       "plot without title"
      ]
     },
     "metadata": {},
     "output_type": "display_data"
    }
   ],
   "source": [
    "set.seed(20160227)\n",
    "x<-seq(0,50,1)\n",
    "y<-((runif(1,10,20)*x)/(runif(1,0,10)+x))+rnorm(51,0,1)\n",
    "#visually estimate some starting parameter values\n",
    "plot(x,y)\n",
    "#for simple models nls find good starting values for the parameters even if it throw a warning\n",
    "m<-nls(y~a*x/(b+x))\n",
    "#get some estimation of goodness of fit\n",
    "cor(y,predict(m))\n",
    "#plot\n",
    "plot(x,y)\n",
    "lines(x,predict(m),col=\"red\",lwd=3)"
   ]
  },
  {
   "cell_type": "code",
   "execution_count": 9,
   "id": "9c4f6916-29ee-4c49-bdf6-80cee3165b9b",
   "metadata": {},
   "outputs": [
    {
     "data": {
      "text/html": [
       "0.98118313084838"
      ],
      "text/latex": [
       "0.98118313084838"
      ],
      "text/markdown": [
       "0.98118313084838"
      ],
      "text/plain": [
       "[1] 0.9811831"
      ]
     },
     "metadata": {},
     "output_type": "display_data"
    },
    {
     "data": {
      "image/png": "[encoded data removed]",
      "text/plain": [
       "plot without title"
      ]
     },
     "metadata": {},
     "output_type": "display_data"
    }
   ],
   "source": [
    "#simulate some data, this without a priori knowledge of the parameter value\n",
    "y<-runif(1,5,15)*exp(-runif(1,0.01,0.05)*x)+rnorm(51,0,0.5)\n",
    "#visually estimate some starting parameter values\n",
    "plot(x,y)\n",
    "#from this graph set approximate starting values\n",
    "a_start<-8 #param a is the y value when x=0\n",
    "b_start<-2*log(2)/a_start #b is the decay rate\n",
    "#model\n",
    "m<-nls(y~a*exp(-b*x),start=list(a=a_start,b=b_start))\n",
    "#get some estimation of goodness of fit\n",
    "cor(y,predict(m))\n",
    "#plot the fit\n",
    "lines(x,predict(m),col=\"red\",lwd=3)"
   ]
  },
  {
   "cell_type": "markdown",
   "id": "3609cdae-d327-460c-b94d-8b3169e1ffdb",
   "metadata": {},
   "source": [
    "<a id=\"ref2\"> </a>\n",
    "# Exemple de régression non linéaire"
   ]
  },
  {
   "cell_type": "markdown",
   "id": "2aae6d5f-f0df-47c0-a7de-29b44bc65023",
   "metadata": {},
   "source": [
    "Par exemple, nous allons essayer d'ajuster un modèle non linéaire aux points de données correspondant au PIB de la Chine de 1960 à 2014. Nous téléchargeons un jeu de données avec deux colonnes, la première, une année entre 1960 et 2014, la seconde, Revenu intérieur brut annuel correspondant de la Chine en dollars américains pour cette année."
   ]
  },
  {
   "cell_type": "code",
   "execution_count": 10,
   "id": "5a2f6f2d-ca40-4c53-8cf8-2f701c314d35",
   "metadata": {},
   "outputs": [
    {
     "data": {
      "text/html": [
       "<table>\n",
       "<thead><tr><th scope=col>Year</th><th scope=col>Value</th></tr></thead>\n",
       "<tbody>\n",
       "\t<tr><td>1960       </td><td>59184116489</td></tr>\n",
       "\t<tr><td>1961       </td><td>49557050183</td></tr>\n",
       "\t<tr><td>1962       </td><td>46685178504</td></tr>\n",
       "\t<tr><td>1963       </td><td>50097303271</td></tr>\n",
       "\t<tr><td>1964       </td><td>59062254890</td></tr>\n",
       "\t<tr><td>1965       </td><td>69709153115</td></tr>\n",
       "</tbody>\n",
       "</table>\n"
      ],
      "text/latex": [
       "\\begin{tabular}{r|ll}\n",
       " Year & Value\\\\\n",
       "\\hline\n",
       "\t 1960        & 59184116489\\\\\n",
       "\t 1961        & 49557050183\\\\\n",
       "\t 1962        & 46685178504\\\\\n",
       "\t 1963        & 50097303271\\\\\n",
       "\t 1964        & 59062254890\\\\\n",
       "\t 1965        & 69709153115\\\\\n",
       "\\end{tabular}\n"
      ],
      "text/markdown": [
       "\n",
       "| Year | Value |\n",
       "|---|---|\n",
       "| 1960        | 59184116489 |\n",
       "| 1961        | 49557050183 |\n",
       "| 1962        | 46685178504 |\n",
       "| 1963        | 50097303271 |\n",
       "| 1964        | 59062254890 |\n",
       "| 1965        | 69709153115 |\n",
       "\n"
      ],
      "text/plain": [
       "  Year Value      \n",
       "1 1960 59184116489\n",
       "2 1961 49557050183\n",
       "3 1962 46685178504\n",
       "4 1963 50097303271\n",
       "5 1964 59062254890\n",
       "6 1965 69709153115"
      ]
     },
     "metadata": {},
     "output_type": "display_data"
    }
   ],
   "source": [
    "ChinaGdp <- read.csv(file = \"china_gdp.csv\")\n",
    "head(ChinaGdp)"
   ]
  },
  {
   "cell_type": "markdown",
   "id": "a82d3133-1e24-45b5-91b3-534272a31087",
   "metadata": {},
   "source": [
    "### Tracer l'ensemble de données ###\n",
    "Voici à quoi ressemblent les points de données. Cela ressemble à une fonction logistique ou exponentielle. La croissance démarre lentement, puis à partir de 2005, la croissance est très significative. Et finalement, il ralentit légèrement dans les années 2010."
   ]
  },
  {
   "cell_type": "code",
   "execution_count": 11,
   "id": "842956c5-c762-4625-9a1a-fc1cbd1308cd",
   "metadata": {},
   "outputs": [
    {
     "data": {
      "image/png": "[encoded data removed]",
      "text/plain": [
       "Plot with title \"Scatterplot Example\""
      ]
     },
     "metadata": {},
     "output_type": "display_data"
    }
   ],
   "source": [
    "x_data<-ChinaGdp$Year\n",
    "y_data<-ChinaGdp$Value\n",
    "plot(x_data, y_data, main=\"Scatterplot Example\",xlab=\"Year\", \n",
    "     ylab=\"GDP\", pch=19, col=\"blue\")"
   ]
  },
  {
   "cell_type": "markdown",
   "id": "7d2ecc4f-5fad-4374-8950-103e8db8348b",
   "metadata": {},
   "source": [
    "### Choisir un modèle ###\n",
    "\n",
    "À partir d'un premier regard, nous déterminons que la fonction logistique pourrait être une bonne approximation,\n",
    "car il a la propriété de commencer par une croissance lente, en augmentant la croissance au milieu, puis en diminuant à nouveau à la fin; comme illustré ci-dessous:"
   ]
  },
  {
   "cell_type": "code",
   "execution_count": 18,
   "id": "49587a77-ac65-4537-a313-c8ee57109a95",
   "metadata": {},
   "outputs": [
    {
     "data": {
      "image/png": "[encoded data removed]",
      "text/plain": [
       "plot without title"
      ]
     },
     "metadata": {},
     "output_type": "display_data"
    }
   ],
   "source": [
    "x<-seq(-5.0, 5.0, 0.1)\n",
    "y<-1/(1+exp(-x))\n",
    "plot(x,y,\"l\",col=\"red\",lwd=3)"
   ]
  },
  {
   "cell_type": "markdown",
   "id": "144e3abd-adb2-446b-a0cf-bddbde92b1cf",
   "metadata": {},
   "source": [
    "La formule de la fonction logistique est la suivante:\n",
    "\n",
    "$$ \\hat {Y} = \\frac1 {1 + e ^ {\\beta_1 (X- \\beta_2)}} $$\n",
    "\n",
    "$ \\beta_1 $: contrôle la pente de la courbe,\n",
    "\n",
    "$ \\beta_2 $: fait glisser la courbe sur l'axe des x.\n",
    "\n",
    "construisons notre modèle de régression et initialisons ses paramètres."
   ]
  },
  {
   "cell_type": "code",
   "execution_count": 20,
   "id": "714e2b62-2055-4d5d-9c8f-ce68389e1f38",
   "metadata": {},
   "outputs": [
    {
     "name": "stdout",
     "output_type": "stream",
     "text": [
      "          b           c \n",
      "690.4579440   0.9972071 \n"
     ]
    },
    {
     "data": {
      "text/html": [
       "0.990327958913249"
      ],
      "text/latex": [
       "0.990327958913249"
      ],
      "text/markdown": [
       "0.990327958913249"
      ],
      "text/plain": [
       "[1] 0.990328"
      ]
     },
     "metadata": {},
     "output_type": "display_data"
    },
    {
     "data": {
      "image/png": "[encoded data removed]",
      "text/plain": [
       "plot without title"
      ]
     },
     "metadata": {},
     "output_type": "display_data"
    }
   ],
   "source": [
    "sigmoid = function(params, x) {\n",
    "  1 / (1 + exp(-params[1] * (x - params[2])))\n",
    "}\n",
    "# Lets normalize our data\n",
    "x =x_data/max(x_data)\n",
    "y =y_data/max(y_data)\n",
    "# fitting code\n",
    "fitmodel <- nls(y~1/(1 + exp(-b * (x-c))),start=list(b=100,c=1))\n",
    "    \n",
    "# visualization code\n",
    "# get the coefficients using the coef function\n",
    "params=coef(fitmodel)\n",
    "print(params)\n",
    "cor(y,predict(fitmodel))\n",
    "y2 <- sigmoid(params,x)\n",
    "plot(x,y, pch=19, col=\"blue\")\n",
    "lines(x,y2, col=\"red\",lwd=3)"
   ]
  }
 ],
 "metadata": {
  "kernelspec": {
   "display_name": "R",
   "language": "R",
   "name": "ir"
  },
  "language_info": {
   "codemirror_mode": "r",
   "file_extension": ".r",
   "mimetype": "text/x-r-source",
   "name": "R",
   "pygments_lexer": "r",
   "version": "3.6.1"
  }
 },
 "nbformat": 4,
 "nbformat_minor": 5
}
